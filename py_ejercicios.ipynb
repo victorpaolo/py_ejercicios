{
 "cells": [
  {
   "cell_type": "markdown",
   "metadata": {},
   "source": [
    "# 15 Ejercicios cortos"
   ]
  },
  {
   "cell_type": "markdown",
   "metadata": {},
   "source": [
    "Este es un popurrí de ejercicios cortos sobre diseño de funciones y clases para coger algo de soltura.\n",
    "\n",
    "Cada ejercicio es independiente y no tiene relación con los anteriores (como norma general). Siéntete libre de importar las bibliotecas que quieras.\n",
    "\n",
    "En cada ejercicio deberás escribir la función/clase requerida, y probar a llamarla (o a crear una instancia) con valores de prueba."
   ]
  },
  {
   "cell_type": "markdown",
   "metadata": {},
   "source": [
    "#### 1. Escribe una función `hipotenusa` que tome como argumentos posicionales los dos catetos de un triángulo rectángulo y devuelva la hipotenusa de dicho triángulo."
   ]
  },
  {
   "cell_type": "code",
   "execution_count": 38,
   "metadata": {},
   "outputs": [],
   "source": [
    "import math\n",
    "def hipotenusa(a,b):\n",
    "    c=math.sqrt(a**2+b**2)\n",
    "    return c"
   ]
  },
  {
   "cell_type": "code",
   "execution_count": 39,
   "metadata": {},
   "outputs": [
    {
     "name": "stdout",
     "output_type": "stream",
     "text": [
      "Introduce valor de cateto 1:\n",
      "4\n",
      "Introduce valor de cateto 2:\n",
      "5\n",
      "6.4031242374328485\n"
     ]
    }
   ],
   "source": [
    "print(\"Introduce valor de cateto 1:\")\n",
    "cateto1 = input()\n",
    "print(\"Introduce valor de cateto 2:\")\n",
    "cateto2 = input()\n",
    "\n",
    "print(hipotenusa(int(cateto1),int(cateto2)))"
   ]
  },
  {
   "cell_type": "markdown",
   "metadata": {},
   "source": [
    "#### 2. Define una clase que tenga al menos dos métodos: `setString`, que fija un string pasado como argumento como *instance variable*; y `getString`, que devuelve dicho string:"
   ]
  },
  {
   "cell_type": "code",
   "execution_count": 40,
   "metadata": {},
   "outputs": [],
   "source": [
    "class crm(object):\n",
    "    def setString(self, cliente, cohort, pagado, intensidad):\n",
    "        self.cliente = cliente\n",
    "        self.cohort = str(cohort)\n",
    "        self.pagado = pagado\n",
    "        self.intensidad = str(intensidad)\n",
    "    \n",
    "    def getString(self):\n",
    "        return print((\"Nombre de cliente: \" + self.cliente + \n",
    "                      \" Año de graduación: \" + self.cohort + \n",
    "                      \" Finalizado el pago: \"+ self.pagado + \n",
    "                      \" Opnión intensidad: \" + self.intensidad), end=\".\")"
   ]
  },
  {
   "cell_type": "code",
   "execution_count": 41,
   "metadata": {},
   "outputs": [],
   "source": [
    "cliente1 = crm()\n",
    "cliente2 = crm()\n",
    "\n",
    "cliente1.setString(\"Ale\", 2022, \"Si\", 6)\n",
    "cliente2.setString(\"Ana\", 2021, \"No\", 8)"
   ]
  },
  {
   "cell_type": "code",
   "execution_count": 42,
   "metadata": {},
   "outputs": [
    {
     "name": "stdout",
     "output_type": "stream",
     "text": [
      "Nombre de cliente: Ale Año de graduación: 2022 Finalizado el pago: Si Opnión intensidad: 6.None\n",
      "Nombre de cliente: Ana Año de graduación: 2021 Finalizado el pago: No Opnión intensidad: 8.None\n"
     ]
    }
   ],
   "source": [
    "print(cliente1.getString())\n",
    "print(cliente2.getString())"
   ]
  },
  {
   "cell_type": "markdown",
   "metadata": {},
   "source": [
    "#### 3. Escribe una función llamada `wordcount` que tome como argumento un solo string con varias palabras (separadas por espacios en blanco) y devuelva el número de palabras del string pasado:"
   ]
  },
  {
   "cell_type": "code",
   "execution_count": 43,
   "metadata": {},
   "outputs": [],
   "source": [
    "def wordcount(a):\n",
    "    array =  a.split()\n",
    "    return print(\"La frase contiene \" + str(len(array)) + \" palabras\")"
   ]
  },
  {
   "cell_type": "code",
   "execution_count": 44,
   "metadata": {},
   "outputs": [
    {
     "name": "stdout",
     "output_type": "stream",
     "text": [
      "Introduce la frase: \n",
      "hey que tal!\n",
      "La frase contiene 3 palabras\n"
     ]
    }
   ],
   "source": [
    "print(\"Introduce la frase: \")\n",
    "frase = input()\n",
    "wordcount(frase)"
   ]
  },
  {
   "cell_type": "markdown",
   "metadata": {},
   "source": [
    "#### 4. Escribe una función llamada `divisibles_por_7` que tome como argumentos un número arbitrario de números enteros y devuelva una lista con solo aquellos que sean divisibles por 7 (sin dar decimales):"
   ]
  },
  {
   "cell_type": "code",
   "execution_count": 45,
   "metadata": {},
   "outputs": [],
   "source": [
    "def divisibles_por_7(a,b):\n",
    "    resultado = []\n",
    "    for n in range(a,b):\n",
    "        if n % 7 == 0:\n",
    "            resultado.append(n)\n",
    "    return resultado"
   ]
  },
  {
   "cell_type": "code",
   "execution_count": 46,
   "metadata": {},
   "outputs": [
    {
     "name": "stdout",
     "output_type": "stream",
     "text": [
      "Divisibles por 7 entre este valor: \n",
      "2\n",
      "Y este valor: \n",
      "28\n",
      "Aquí el array: \n"
     ]
    },
    {
     "data": {
      "text/plain": [
       "[7, 14, 21]"
      ]
     },
     "execution_count": 46,
     "metadata": {},
     "output_type": "execute_result"
    }
   ],
   "source": [
    "print(\"Divisibles por 7 entre este valor: \")\n",
    "valor1 = input()\n",
    "print(\"Y este valor: \")\n",
    "valor2 = input()\n",
    "print(\"Aquí el array: \")\n",
    "divisibles_por_7(int(valor1),int(valor2))"
   ]
  },
  {
   "cell_type": "markdown",
   "metadata": {},
   "source": [
    "#### 5. Escribe una función `factorial` que devuelva el factorial de un número entero."
   ]
  },
  {
   "cell_type": "code",
   "execution_count": 47,
   "metadata": {},
   "outputs": [],
   "source": [
    "def factorial(a): \n",
    "    if a < 0: \n",
    "        print(\"Recuerda ha de ser positivo\")\n",
    "    elif a == 0: \n",
    "        return 1\n",
    "    else: \n",
    "        return a * factorial(a - 1)"
   ]
  },
  {
   "cell_type": "code",
   "execution_count": 50,
   "metadata": {},
   "outputs": [
    {
     "name": "stdout",
     "output_type": "stream",
     "text": [
      "Introduce el valor para el factorial: \n",
      "5\n",
      "Aquí el valor factorizado: \n"
     ]
    },
    {
     "data": {
      "text/plain": [
       "120"
      ]
     },
     "execution_count": 50,
     "metadata": {},
     "output_type": "execute_result"
    }
   ],
   "source": [
    "print(\"Introduce el valor para el factorial: \")\n",
    "valor_factorial = input()\n",
    "print(\"Aquí el valor factorizado: \")\n",
    "factorial(int(valor_factorial))"
   ]
  },
  {
   "cell_type": "markdown",
   "metadata": {},
   "source": [
    "####  6. Escribe una función `manhattan` que compute la distancia de Manhattan entre dos puntos bidimensionales (donde cada uno de estos puntos tiene coordenadas de la forma `(x,y)`):"
   ]
  },
  {
   "cell_type": "code",
   "execution_count": 51,
   "metadata": {},
   "outputs": [],
   "source": [
    "class establecer_puntos_mapa:\n",
    "    def __init__(self, x, y):\n",
    "        self.x = x\n",
    "        self.y = y"
   ]
  },
  {
   "cell_type": "code",
   "execution_count": 52,
   "metadata": {},
   "outputs": [],
   "source": [
    "def manhattan(a,b):\n",
    "    distancia = math.sqrt((a.x - b.x)**2 + (a.y - b.y)**2)\n",
    "    return distancia"
   ]
  },
  {
   "cell_type": "code",
   "execution_count": 53,
   "metadata": {},
   "outputs": [
    {
     "name": "stdout",
     "output_type": "stream",
     "text": [
      "qué puntos quieres calcular?\n",
      "primero punto 1 su x\n",
      "3\n",
      "ahora punto 1 su y\n",
      "2\n",
      "primero punto 2 su x\n",
      "-3\n",
      "ahora punto 2 su y\n",
      "-5\n",
      "9.219544457292887\n"
     ]
    }
   ],
   "source": [
    "print(\"qué puntos quieres calcular?\")\n",
    "print(\"primero punto 1 su x\")\n",
    "punto1x = input()\n",
    "print(\"ahora punto 1 su y\")\n",
    "punto1y = input()\n",
    "print(\"primero punto 2 su x\")\n",
    "punto2x = input()\n",
    "print(\"ahora punto 2 su y\")\n",
    "punto2y = input()\n",
    "\n",
    "punto1 = establecer_puntos_mapa(int(punto1x),int(punto1y))\n",
    "punto2 = establecer_puntos_mapa(int(punto2x),int(punto2y))\n",
    "\n",
    "print(manhattan(punto1, punto2))"
   ]
  },
  {
   "cell_type": "markdown",
   "metadata": {},
   "source": [
    "#### 7. Define una función `overlapping` que tome como argumento dos colecciones. Si ambas colecciones tienen al menos un elemento en común, debe devolver `True`. Si no es así, debe devolver `False`:"
   ]
  },
  {
   "cell_type": "code",
   "execution_count": 54,
   "metadata": {},
   "outputs": [],
   "source": [
    "def overlapping(a,b):\n",
    "    for i in range(len(a)):\n",
    "        for j in range(len(b)):\n",
    "            if(a[i] == b[j]):\n",
    "                return True\n",
    "            else:\n",
    "                return False"
   ]
  },
  {
   "cell_type": "code",
   "execution_count": 55,
   "metadata": {},
   "outputs": [],
   "source": [
    "a = ([1,2,3,4],[6,7,8,9])\n",
    "b = ([1,2,3,4],[6,7,9,10])\n",
    "c = ([11,12,13,14],[16,17,18,19])"
   ]
  },
  {
   "cell_type": "code",
   "execution_count": 56,
   "metadata": {},
   "outputs": [
    {
     "name": "stdout",
     "output_type": "stream",
     "text": [
      "True\n",
      "False\n"
     ]
    }
   ],
   "source": [
    "print(overlapping(a,b))\n",
    "print(overlapping(a,c))"
   ]
  },
  {
   "cell_type": "markdown",
   "metadata": {},
   "source": [
    "#### 8. Define una función `filtrar_palabras_largas` que tome como argumento una lista de palabras (strings), y una longitud máxima `n`. Esta función debe devolver una lista solo con las palabras que son más cortas que `n`:"
   ]
  },
  {
   "cell_type": "code",
   "execution_count": 57,
   "metadata": {},
   "outputs": [],
   "source": [
    "def filtrar_palabras_largas(strings,n):\n",
    "    la_lista = []\n",
    "    \n",
    "    for i in strings:\n",
    "        if len(i) < n:\n",
    "            la_lista.append(i)\n",
    "        \n",
    "    return la_lista "
   ]
  },
  {
   "cell_type": "code",
   "execution_count": 58,
   "metadata": {},
   "outputs": [],
   "source": [
    "n = 4\n",
    "z = [\"casa\", \"jhjhjd\",\"sfd\",\"fdsd\"]"
   ]
  },
  {
   "cell_type": "code",
   "execution_count": 59,
   "metadata": {},
   "outputs": [
    {
     "name": "stdout",
     "output_type": "stream",
     "text": [
      "['sfd']\n"
     ]
    }
   ],
   "source": [
    "print(filtrar_palabras_largas(z,n))"
   ]
  },
  {
   "cell_type": "markdown",
   "metadata": {},
   "source": [
    "#### 9. Escribe una función `desv_tipica` que tome como argumento una distribución (lista) de números y devuelva la desviación típica. *Nota: aquí no vale utilizar Numpy ni pandas*:"
   ]
  },
  {
   "cell_type": "code",
   "execution_count": 60,
   "metadata": {},
   "outputs": [],
   "source": [
    "import operator\n",
    "def desv_tipica(a):\n",
    "    exp_list = [2] * len(a)\n",
    "    media = sum(a)/len(a)\n",
    "    varianza = sum(list(map(operator.pow, a, exp_list)))/len(a)-media**2\n",
    "    return varianza**0.5"
   ]
  },
  {
   "cell_type": "code",
   "execution_count": 61,
   "metadata": {},
   "outputs": [
    {
     "name": "stdout",
     "output_type": "stream",
     "text": [
      "4.353925431913901\n"
     ]
    }
   ],
   "source": [
    "lista = [2.3, 5.7, 6.8, 9.7, 12.1, 15.6]\n",
    "print(desv_tipica(lista))"
   ]
  },
  {
   "cell_type": "markdown",
   "metadata": {},
   "source": [
    "#### 10. Escribe una función `suma_hasta_el_primo` que tome como argumento una lista de números y:\n",
    "+ Vaya recorriendo la lista de izquierda a derecha.\n",
    "+ Si un número no es primo, lo sumará a una `suma_acumulada`.\n",
    "+ Si un número es primo, se interrumpe la ejecución y se devuelve la `suma_acumulada` (sin sumar el número primo) hasta el momento.\n",
    "\n",
    "*Pista:* igual te resulta más sencillo escribir dos funciones: una que chequee si un número es primo o no, y luego ya `suma_hasta_el_primo`, y que utilice internamente esa función de chequear primos."
   ]
  },
  {
   "cell_type": "code",
   "execution_count": 63,
   "metadata": {},
   "outputs": [],
   "source": [
    "#conda install -c anaconda sympy"
   ]
  },
  {
   "cell_type": "code",
   "execution_count": 62,
   "metadata": {},
   "outputs": [],
   "source": [
    "import sympy"
   ]
  },
  {
   "cell_type": "code",
   "execution_count": 64,
   "metadata": {},
   "outputs": [],
   "source": [
    "def suma_hasta_el_primo(a):\n",
    "    cont=[]\n",
    "    for i in a:\n",
    "        if sympy.isprime(i) == False:\n",
    "            cont.append(i)\n",
    "        elif sympy.isprime(i) == True:\n",
    "            break\n",
    "    return print(sum(cont))"
   ]
  },
  {
   "cell_type": "code",
   "execution_count": 65,
   "metadata": {},
   "outputs": [],
   "source": [
    "the_list=[4,6,8,9,10,11]"
   ]
  },
  {
   "cell_type": "code",
   "execution_count": 66,
   "metadata": {},
   "outputs": [
    {
     "name": "stdout",
     "output_type": "stream",
     "text": [
      "37\n"
     ]
    }
   ],
   "source": [
    "suma_hasta_el_primo(the_list)"
   ]
  },
  {
   "cell_type": "markdown",
   "metadata": {},
   "source": [
    "####  11. Escribe una función `juego_de_numero` que:\n",
    "+ Tome como argumento un número (entero).\n",
    "+ Si el número es par, divídelo por 2.\n",
    "+ Si es impar, multiplícalo por 3 y súmale 1.\n",
    "+ Continúa haciéndolo hasta que tu resultado sea 1.\n",
    "+ Devuelve el número de \"números visitados\", incluyendo el inicial y el 1.\n",
    "\n",
    "Por ejemplo: si llamamos a `juego_de_numero(3)`, la secuencia es 3-10-5-16-8-4-2-1."
   ]
  },
  {
   "cell_type": "code",
   "execution_count": 67,
   "metadata": {},
   "outputs": [],
   "source": [
    "def juego_de_numero(a):\n",
    "    seq = []\n",
    "    seq.append(a)\n",
    "    while a != 1:\n",
    "        if a % 2:\n",
    "            a = a * 3 + 1\n",
    "        else:\n",
    "            a //= 2\n",
    "        seq.append(a)\n",
    "    return seq"
   ]
  },
  {
   "cell_type": "code",
   "execution_count": 68,
   "metadata": {},
   "outputs": [
    {
     "name": "stdout",
     "output_type": "stream",
     "text": [
      "Introduce el valor con el que jugar: \n",
      "3\n"
     ]
    },
    {
     "data": {
      "text/plain": [
       "[3, 10, 5, 16, 8, 4, 2, 1]"
      ]
     },
     "execution_count": 68,
     "metadata": {},
     "output_type": "execute_result"
    }
   ],
   "source": [
    "print(\"Introduce el valor con el que jugar: \")\n",
    "valor_jugar = input()\n",
    "juego_de_numero(int(valor_jugar))"
   ]
  },
  {
   "cell_type": "markdown",
   "metadata": {},
   "source": [
    "#### 12. Si probamos `juego_de_numero` con todos los números del 1 al 100, ¿cuál es el que da más \"números visitados\"?"
   ]
  },
  {
   "cell_type": "code",
   "execution_count": 69,
   "metadata": {},
   "outputs": [],
   "source": [
    "def juego_de_numero_rango(a,b):\n",
    "    listofseq = []\n",
    "    for i in range (a,b):\n",
    "        seq = []\n",
    "        seq.append(i)\n",
    "        while i != 1:\n",
    "            if i % 2:\n",
    "                i = i * 3 + 1\n",
    "            else:\n",
    "                i //= 2\n",
    "            seq.append(i)\n",
    "        listofseq.append(seq)\n",
    "    print(sorted(listofseq, key=len)[-2:])"
   ]
  },
  {
   "cell_type": "code",
   "execution_count": 70,
   "metadata": {},
   "outputs": [
    {
     "name": "stdout",
     "output_type": "stream",
     "text": [
      "Juego de número entro los siguientes números: \n",
      "1\n",
      "Y este valor: \n",
      "100\n",
      "Aquí las 2 arrays con la máxima longitud: \n",
      "[[73, 220, 110, 55, 166, 83, 250, 125, 376, 188, 94, 47, 142, 71, 214, 107, 322, 161, 484, 242, 121, 364, 182, 91, 274, 137, 412, 206, 103, 310, 155, 466, 233, 700, 350, 175, 526, 263, 790, 395, 1186, 593, 1780, 890, 445, 1336, 668, 334, 167, 502, 251, 754, 377, 1132, 566, 283, 850, 425, 1276, 638, 319, 958, 479, 1438, 719, 2158, 1079, 3238, 1619, 4858, 2429, 7288, 3644, 1822, 911, 2734, 1367, 4102, 2051, 6154, 3077, 9232, 4616, 2308, 1154, 577, 1732, 866, 433, 1300, 650, 325, 976, 488, 244, 122, 61, 184, 92, 46, 23, 70, 35, 106, 53, 160, 80, 40, 20, 10, 5, 16, 8, 4, 2, 1], [97, 292, 146, 73, 220, 110, 55, 166, 83, 250, 125, 376, 188, 94, 47, 142, 71, 214, 107, 322, 161, 484, 242, 121, 364, 182, 91, 274, 137, 412, 206, 103, 310, 155, 466, 233, 700, 350, 175, 526, 263, 790, 395, 1186, 593, 1780, 890, 445, 1336, 668, 334, 167, 502, 251, 754, 377, 1132, 566, 283, 850, 425, 1276, 638, 319, 958, 479, 1438, 719, 2158, 1079, 3238, 1619, 4858, 2429, 7288, 3644, 1822, 911, 2734, 1367, 4102, 2051, 6154, 3077, 9232, 4616, 2308, 1154, 577, 1732, 866, 433, 1300, 650, 325, 976, 488, 244, 122, 61, 184, 92, 46, 23, 70, 35, 106, 53, 160, 80, 40, 20, 10, 5, 16, 8, 4, 2, 1]]\n"
     ]
    }
   ],
   "source": [
    "print(\"Juego de número entro los siguientes números: \")\n",
    "valor_min = input()\n",
    "print(\"Y este valor: \")\n",
    "valor_max = input()\n",
    "print(\"Aquí las 2 arrays con la máxima longitud: \")\n",
    "juego_de_numero_rango(int(valor_min),int(valor_max))"
   ]
  },
  {
   "cell_type": "markdown",
   "metadata": {},
   "source": [
    "#### 13. Consigue en una sola línea de código averiguar cuántos elementos distintos hay en la siguiente lista de 300 elementos:"
   ]
  },
  {
   "cell_type": "code",
   "execution_count": 71,
   "metadata": {},
   "outputs": [],
   "source": [
    "la_lista = ['da', 'e', 'e', 'eccebd', 'fdfdce', 'ad', 'dadcd', 'baadede', 'ebb', 'f', 'acbdf', 'eeccb', 'fe', \n",
    "            'fcffbcc', 'dffadd', 'cbdeca', 'ff', 'aa', 'cbfe', 'aedaaf', 'd', 'efbfd', 'efaaee', 'dae', \n",
    "            'befdeb', 'daaecd', 'b', 'dddd', 'cae', 'ac', 'fee', 'ada', 'dbae', 'adfedd', 'e', 'ddaefca', \n",
    "            'bf', 'ddeceee', 'aae', 'bedbe', 'caafddf', 'ba', 'dcdf', 'edefcbd', 'cfdcb', 'dcbf', \n",
    "            'cfccefe', 'fd', 'fdae', 'eb', 'add', 'afaa', 'cdedabf', 'fdbebe', 'dfeae', 'debcca', \n",
    "            'eae', 'bfeddec', 'ccbbbb', 'af', 'c', 'ddcea', 'dabddf', 'efcaec', 'cec', 'bdfce', \n",
    "            'bacccdd', 'af', 'dd', 'c', 'acfdea', 'bacfc', 'bedaf', 'dfc', 'cefdbc', 'ebefc', 'cee', \n",
    "            'decacef', 'cfccddb', 'c', 'ebfb', 'acfb', 'c', 'aeede', 'fed', 'fabc', 'fcfb', 'ad', 'bc', \n",
    "            'aaadcd', 'cf', 'a', 'bc', 'ecaabcc', 'eeebce', 'eba', 'dfcaf', 'f', 'bcd', 'cc', 'daecffd', \n",
    "            'f', 'def', 'ebc', 'bcbcd', 'a', 'dbae', 'a', 'dbfdd', 'bdbbff', 'bacacdc', 'd', 'acfaab', 'f', \n",
    "            'dccfeba', 'dccf', 'defcce', 'cbbfbce', 'abddf', 'aaed', 'abfc', 'acab', 'bdceae', 'fc', 'cfdb', \n",
    "            'adbdb', 'e', 'cdbabf', 'fbaae', 'eaabda', 'bcdfea', 'bdcfaeb', 'afaccb', 'aa', 'fbdd', 'bae', \n",
    "            'b', 'ccdefc', 'c', 'fcffaa', 'aadeeb', 'ea', 'fcdfbf', 'fa', 'eccf', 'dcbcee', 'cbbd', 'fedcd', \n",
    "            'eeeec', 'aaafcbb', 'fafa', 'beaab', 'ecdf', 'cceaaf', 'dafdcf', 'cbfe', 'ff', 'd', 'e', 'ebcdb', \n",
    "            'ecb', 'f', 'bafb', 'dacdbf', 'ccd', 'abcc', 'ed', 'ddcdeb', 'bcb', 'cefbec', 'e', 'cddeb', \n",
    "            'eacccea', 'f', 'faeaaef', 'ddd', 'dfb', 'bda', 'acdf', 'fcffa', 'a', 'fc', 'baffac', 'efadfca', \n",
    "            'e', 'fb', 'bedfbd', 'eb', 'ceaece', 'fdcbfea', 'fda', 'fbbebf', 'cecbffa', 'beabecc', 'eddfc', \n",
    "            'bab', 'abfe', 'ab', 'bdada', 'ccdf', 'bfeaeaa', 'ac', 'eb', 'fbbbf', 'ddab', 'baddadd', 'bcbebec', \n",
    "            'afbaca', 'aa', 'db', 'aafcff', 'eabcadb', 'fe', 'adc', 'eabacbd', 'ffccdd', 'dbfdcc', 'cff', 'fbb', \n",
    "            'fadd', 'cbcb', 'bfeacde', 'feed', 'fbae', 'debb', 'dffe', 'de', 'eaeefc', 'ccedfb', 'eefb', \n",
    "            'fdddfd', 'fdfee', 'cbecfd', 'f', 'e', 'e', 'bcfafe', 'fdfaef', 'ddbad', 'cbee', 'a', 'dec', 'fd', \n",
    "            'd', 'dee', 'daadcd', 'fbaaab', 'b', 'f', 'cabffd', 'edfd', 'fafccbc', 'cbdbad', 'ceaadae', \n",
    "            'eafdfd', 'abebfc', 'b', 'bdbeffe', 'aabcabd', 'fcbaab', 'dae', 'd', 'fdccbd', 'eaedfd', 'dbbc', \n",
    "            'fb', 'bcddb', 'abddac', 'da', 'abedf', 'fa', 'ccbaa', 'efae', 'abd', 'aebe', 'cdcd', 'd', 'abcc', \n",
    "            'edccba', 'dedd', 'a', 'b', 'a', 'd', 'fbbdefd', 'ccfdcae', 'aaabd', 'cdbffb', 'fcdfcef', 'cfbae', \n",
    "            'a', 'ebe', 'c', 'b', 'afdcacb', 'ad', 'ffaeb', 'a', 'dfffdea', 'bfa']\n",
    "\n",
    "# En una sola línea, ¿eh?:\n"
   ]
  },
  {
   "cell_type": "code",
   "execution_count": 72,
   "metadata": {},
   "outputs": [
    {
     "data": {
      "text/plain": [
       "241"
      ]
     },
     "execution_count": 72,
     "metadata": {},
     "output_type": "execute_result"
    }
   ],
   "source": [
    "len(list(dict.fromkeys(la_lista)))"
   ]
  },
  {
   "cell_type": "markdown",
   "metadata": {},
   "source": [
    "#### 14. Escribe una función `word_frequency` en la que, dada una colección (lista) de palabras (que pueden repetirse), devuelva un conjunto de pares (`palabra`, `número de veces que aparece dicha palabra en la colección`):"
   ]
  },
  {
   "cell_type": "code",
   "execution_count": 73,
   "metadata": {},
   "outputs": [],
   "source": [
    "from collections import Counter"
   ]
  },
  {
   "cell_type": "code",
   "execution_count": 74,
   "metadata": {},
   "outputs": [],
   "source": [
    "def word_frequency(a):\n",
    "    Contador = Counter(a)\n",
    "    most_occur = Contador.most_common(2)\n",
    "    return print(most_occur)"
   ]
  },
  {
   "cell_type": "code",
   "execution_count": 75,
   "metadata": {},
   "outputs": [
    {
     "name": "stdout",
     "output_type": "stream",
     "text": [
      "[('e', 9), ('a', 9)]\n"
     ]
    }
   ],
   "source": [
    "word_frequency(la_lista)"
   ]
  },
  {
   "cell_type": "markdown",
   "metadata": {},
   "source": [
    "#### 15. Crea una clase llamada `CarritoDeLaCompra` que satisfaga las siguientes condiciones:\n",
    "+ Un carrito, nada más creado (es decir, al crear una instancia), está vacío.\n",
    "+ El carrito tiene un método llamado `anadir_producto`, que toma como argumentos un string que es el nombre de un artículo (por ejemplo: `\"plátanos\"`) y la cantidad. Este método añade dicho producto y cantidad al carrito.\n",
    "+ Asimismo, tiene otro método llamado `quitar_producto`, que toma los mismos argumentos (producto y cantidad); pero los quita del carrito en vez de añadirlos. Si se \"pide\" quitar mayor cantidad que la que hay en el carrito, o de un producto que no está en el carrito, no se hace la operación, y se imprime un string de error.\n",
    "+ En cualquier momento debe poder utilizarse el método `ver_carrito`, y debe devolver los productos presentes en el carrito, así como su cantidad. Solo debe devolver cada producto una vez, es decir: si hicimos `anadir_producto(\"tomates\", 2)` y luego `anadir_producto(\"tomates\", 3)`, `ver_carrito` solo debe devolver algo similar a `[(\"tomates\", 5)]`.\n",
    "\n",
    "Una vez definida la clase, crea una instancia de ella y prueba a ir añadiendo, quitando y mirando el carrito."
   ]
  },
  {
   "cell_type": "code",
   "execution_count": 76,
   "metadata": {},
   "outputs": [],
   "source": [
    "class Producto:\n",
    "    def __init__(self, nombreProducto):\n",
    "        self.nombreProducto = nombreProducto\n",
    "    \n",
    "class CarritoDeLaCompra:\n",
    "    def __init__(self):\n",
    "        self.productos = {}\n",
    "    \n",
    "    def ver_carrito(self):\n",
    "        for producto in self.productos:\n",
    "            cantidad = self.productos[producto]\n",
    "            print(\" + \" + producto.nombreProducto + \" - \" + str(cantidad)) \n",
    "    \n",
    "    def anadir_producto(self,producto,cantidad=1):\n",
    "        if cantidad > 0:\n",
    "            if producto in self.productos:\n",
    "                self.productos[producto] += cantidad\n",
    "            else: \n",
    "                self.productos[producto] = cantidad\n",
    "        else:\n",
    "            print(\"Por favor profe pon cantidades en positivo jeje\")\n",
    "\n",
    "    def quitar_producto(self, producto):\n",
    "        if producto in self.productos:\n",
    "            self.productos.pop(producto, None)\n",
    "        else:\n",
    "            return print(\"Carrito vacío!!\")"
   ]
  },
  {
   "cell_type": "code",
   "execution_count": 77,
   "metadata": {},
   "outputs": [],
   "source": [
    "pancake = Producto(\"Pancake\")\n",
    "chocolate = Producto(\"Chocolate\")\n",
    "tomates = Producto(\"Tomates\")\n",
    "platanos = Producto(\"Plátanos\")\n",
    "patatas = Producto(\"Patatas\")"
   ]
  },
  {
   "cell_type": "code",
   "execution_count": 78,
   "metadata": {},
   "outputs": [],
   "source": [
    "c = CarritoDeLaCompra()"
   ]
  },
  {
   "cell_type": "code",
   "execution_count": 79,
   "metadata": {},
   "outputs": [],
   "source": [
    "c.anadir_producto(pancake,2)\n",
    "c.anadir_producto(chocolate,3)\n",
    "c.anadir_producto(tomates,8)\n",
    "c.anadir_producto(platanos,5)\n",
    "c.anadir_producto(patatas,2)"
   ]
  },
  {
   "cell_type": "code",
   "execution_count": 80,
   "metadata": {},
   "outputs": [
    {
     "name": "stdout",
     "output_type": "stream",
     "text": [
      " + Pancake - 2\n",
      " + Chocolate - 3\n",
      " + Tomates - 8\n",
      " + Plátanos - 5\n",
      " + Patatas - 2\n"
     ]
    }
   ],
   "source": [
    "c.ver_carrito()"
   ]
  },
  {
   "cell_type": "code",
   "execution_count": 81,
   "metadata": {},
   "outputs": [],
   "source": [
    "c.anadir_producto(pancake,7)\n",
    "c.anadir_producto(platanos,1)"
   ]
  },
  {
   "cell_type": "code",
   "execution_count": 82,
   "metadata": {},
   "outputs": [
    {
     "name": "stdout",
     "output_type": "stream",
     "text": [
      " + Pancake - 9\n",
      " + Chocolate - 3\n",
      " + Tomates - 8\n",
      " + Plátanos - 6\n",
      " + Patatas - 2\n"
     ]
    }
   ],
   "source": [
    "c.ver_carrito()"
   ]
  },
  {
   "cell_type": "code",
   "execution_count": 83,
   "metadata": {},
   "outputs": [],
   "source": [
    "c.quitar_producto(chocolate)"
   ]
  },
  {
   "cell_type": "code",
   "execution_count": 84,
   "metadata": {},
   "outputs": [
    {
     "name": "stdout",
     "output_type": "stream",
     "text": [
      " + Pancake - 9\n",
      " + Tomates - 8\n",
      " + Plátanos - 6\n",
      " + Patatas - 2\n"
     ]
    }
   ],
   "source": [
    "c.ver_carrito()"
   ]
  }
 ],
 "metadata": {
  "kernelspec": {
   "display_name": "Python 3",
   "language": "python",
   "name": "python3"
  },
  "language_info": {
   "codemirror_mode": {
    "name": "ipython",
    "version": 3
   },
   "file_extension": ".py",
   "mimetype": "text/x-python",
   "name": "python",
   "nbconvert_exporter": "python",
   "pygments_lexer": "ipython3",
   "version": "3.8.5"
  }
 },
 "nbformat": 4,
 "nbformat_minor": 1
}
